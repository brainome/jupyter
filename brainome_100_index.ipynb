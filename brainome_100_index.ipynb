{
 "cells": [
  {
   "cell_type": "markdown",
   "metadata": {
    "collapsed": true
   },
   "source": [
    "![brainome logo](./images/brainome_logo.png)\n",
    "# Brainome Tutorials\n",
    "```TODO write introduction here```\n",
    "\n",
    "## 100 How to use the Brainome data compiler\n",
    "* [Running this tutorial](./README.md)\n",
    "* [101 Quick Start](./brainome_101_Quick_Start.ipynb)\n",
    "* [102 Using CLI](./brainome_102_Using_CLI.ipynb)\n",
    "* [103 Model Selection](./brainome_103_Model_Selection.ipynb)\n",
    "* [104 Using Predictor](./brainome_104_Using_Predictor.ipynb)\n",
    "* [105 Sourcing Your Data Set](./brainome_105_Sourcing_Your_Data_Set.ipynb)\n",
    "* [106 Describe Your CSV](./brainome_106_Describe_Your_CSV.ipynb)\n",
    "\n",
    "## [200 Using measurements to improve your model](./brainome_200_Using_measurements_to_improve_your_model.ipynb)\n",
    "\n",
    "## [300 Put your model to work](./brainome_300_Put_your_model_to_work.ipynb)\n"
   ]
  }
 ],
 "metadata": {
  "kernelspec": {
   "display_name": "Python 3 (ipykernel)",
   "language": "python",
   "name": "python3"
  },
  "language_info": {
   "codemirror_mode": {
    "name": "ipython",
    "version": 3
   },
   "file_extension": ".py",
   "mimetype": "text/x-python",
   "name": "python",
   "nbconvert_exporter": "python",
   "pygments_lexer": "ipython3",
   "version": "3.9.6"
  }
 },
 "nbformat": 4,
 "nbformat_minor": 1
}
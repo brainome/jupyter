{
 "cells": [
  {
   "cell_type": "markdown",
   "metadata": {
    "collapsed": true
   },
   "source": [
    "![brainome logo](./images/brainome_logo.png)\n",
    "# Brainome Tutorials\n",
    "## 100 Basics\n",
    "* [Running this tutorial](./README.md)\n",
    "* [101 Quick Start](./brainome_101_Quick_Start.ipynb)\n",
    "* [102 Using CLI](./brainome_102_Using_CLI.ipynb)\n",
    "* 103 Model Selection\n",
    "* 104 Using Predictor\n",
    "* 105 Sourcing Your Data Set\n",
    "* 106 Describe Your CSV\n",
    "\n",
    "## 200 Measurements\n",
    "\n",
    "## 300 Advanced\n",
    "* 301 Using Predictors in Python\n",
    "* 302 Generatoring Probabilities\n"
   ]
  }
 ],
 "metadata": {
  "kernelspec": {
   "display_name": "Python 3 (ipykernel)",
   "language": "python",
   "name": "python3"
  },
  "language_info": {
   "codemirror_mode": {
    "name": "ipython",
    "version": 3
   },
   "file_extension": ".py",
   "mimetype": "text/x-python",
   "name": "python",
   "nbconvert_exporter": "python",
   "pygments_lexer": "ipython3",
   "version": "3.9.6"
  }
 },
 "nbformat": 4,
 "nbformat_minor": 1
}
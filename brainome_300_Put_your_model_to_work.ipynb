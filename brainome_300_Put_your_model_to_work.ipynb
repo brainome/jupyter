{
 "cells": [
  {
   "cell_type": "markdown",
   "metadata": {
    "collapsed": true
   },
   "source": [
    "![brainome logo](./images/brainome_logo.png)\n",
    "# 300 Put your model to work\n",
    "* [301 Using Predictors in Python](./brainome_301_Using_Predictors_in_Python.ipynb)\n",
    "* [302 Generating Probabilities](./brainome_302_Generating_Probabilities.ipynb)\n",
    "* [303 Predictor Json Measurements](./brainome_303_Predictor_Json_Measurements.ipynb)"
   ]
  }
 ],
 "metadata": {
  "kernelspec": {
   "display_name": "Python 3 (ipykernel)",
   "language": "python",
   "name": "python3"
  },
  "language_info": {
   "codemirror_mode": {
    "name": "ipython",
    "version": 3
   },
   "file_extension": ".py",
   "mimetype": "text/x-python",
   "name": "python",
   "nbconvert_exporter": "python",
   "pygments_lexer": "ipython3",
   "version": "3.9.6"
  }
 },
 "nbformat": 4,
 "nbformat_minor": 1
}
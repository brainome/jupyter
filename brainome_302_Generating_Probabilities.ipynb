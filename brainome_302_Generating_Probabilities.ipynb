{
 "cells": [
  {
   "cell_type": "markdown",
   "id": "cfebebd9",
   "metadata": {},
   "source": [
    "![brainome logo](./images/brainome_logo.png)\n",
    "# 302 Generating Probabilities\n",
    "Brainome's *Random Forest* and *Neural Network* model predictors can also generate probabilities."
   ]
  },
  {
   "cell_type": "markdown",
   "id": "900275fe",
   "metadata": {},
   "source": [
    "## Prerequisites\n",
    "This notebook assumes brainome is installed as per notebook [brainome_101_Quick_Start](./brainome_101_Quick_Start.ipynb)\n",
    "\n",
    "The data sets are:\n",
    "* [titanic_train.csv](https://download.brainome.ai/data/public/titanic_train.csv) for training data\n",
    "* [titanic_predict.csv](https://download.brainome.ai/data/public/titanic_predict.csv) for predictions\n",
    "\n",
    "\n",
    "Predictors require numpy to run and optionally scipy to generate a confusion matrix."
   ]
  },
  {
   "cell_type": "code",
   "execution_count": null,
   "id": "655a3e12",
   "metadata": {},
   "outputs": [],
   "source": [
    "!python3 -m pip install brainome --quiet\n",
    "!brainome --version\n",
    "\n",
    "import urllib.request as request\n",
    "response2 = request.urlretrieve('https://download.brainome.ai/data/public/titanic_predict.csv', 'titanic_predict.csv')\n",
    "%ls -lh titanic_predict.csv"
   ]
  },
  {
   "cell_type": "markdown",
   "id": "2062bec9",
   "metadata": {},
   "source": [
    "## Generate a predictor\n",
    "The predictor filename is `predictor_302.py`"
   ]
  },
  {
   "cell_type": "code",
   "execution_count": null,
   "id": "a287f5b4",
   "metadata": {
    "pycharm": {
     "name": "#%%\n"
    }
   },
   "outputs": [],
   "source": [
    "!brainome https://download.brainome.ai/data/public/titanic_train.csv -rank -y -o predictor_302.py -modelonly -q\n",
    "print('\\nCreated predictor_302.py')\n",
    "!ls -lh predictor_302.py"
   ]
  },
  {
   "cell_type": "markdown",
   "id": "33177319",
   "metadata": {},
   "source": [
    "## Generating classification probabilities for a data set\n",
    "Rather than picking a single class, this feature outputs the probabilities for each class."
   ]
  },
  {
   "cell_type": "code",
   "execution_count": null,
   "id": "f4dc7f42",
   "metadata": {},
   "outputs": [],
   "source": [
    "# using pandas to read csv data\n",
    "%pip install pandas\n",
    "import pandas as pd\n",
    "import predictor_302 as predictor\n",
    "# reading csv file\n",
    "predict_data = pd.read_csv('titanic_predict.csv', na_values=[], na_filter=False)\n",
    "# REQUIRED: strip the headers from dataset\n",
    "predict_values = predict_data.values\n",
    "probabilities_output = predictor.predict(predict_values, return_probabilities=True)\n",
    "print(' Prediction Probabilities '.center(80, '-'))\n",
    "print(probabilities_output)"
   ]
  },
  {
   "cell_type": "markdown",
   "id": "11de2d52",
   "metadata": {},
   "source": [
    "## Combining probabilities into the source data set"
   ]
  },
  {
   "cell_type": "code",
   "execution_count": null,
   "id": "b2253144",
   "metadata": {},
   "outputs": [],
   "source": [
    "import numpy as np\n",
    "predict_header = predict_data.columns.values\n",
    "full_output = np.concatenate((\n",
    "    np.concatenate((predict_header.reshape(1, -1), predict_data)), probabilities_output), axis=1)\n",
    "pd.DataFrame(full_output)"
   ]
  },
  {
   "cell_type": "markdown",
   "id": "9e36fb88",
   "metadata": {},
   "source": [
    "## Next Steps\n",
    "- Check out [303 Predictor Json Measurements](./brainome_303_Predictor_Json_Measurements.ipynb)\n",
    "- Check out [300 Put your model to work](./brainome_300_Put_your_model_to_work.ipynb)"
   ]
  }
 ],
 "metadata": {
  "kernelspec": {
   "display_name": "Python 3 (ipykernel)",
   "language": "python",
   "name": "python3"
  },
  "language_info": {
   "codemirror_mode": {
    "name": "ipython",
    "version": 3
   },
   "file_extension": ".py",
   "mimetype": "text/x-python",
   "name": "python",
   "nbconvert_exporter": "python",
   "pygments_lexer": "ipython3",
   "version": "3.9.7"
  }
 },
 "nbformat": 4,
 "nbformat_minor": 5
}
